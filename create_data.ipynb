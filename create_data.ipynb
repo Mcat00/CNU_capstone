{
 "cells": [
  {
   "cell_type": "markdown",
   "id": "63bd48c6-d0cb-4555-9438-cc8f38d69b37",
   "metadata": {},
   "source": [
    "# affinity label"
   ]
  },
  {
   "cell_type": "code",
   "execution_count": 1,
   "id": "3520d7f2-0790-4cd0-b3a4-d4e586b61b48",
   "metadata": {},
   "outputs": [],
   "source": [
    "from shutil import copyfile\n",
    "import json\n",
    "import os, cv2\n",
    "from pycocotools import mask as decode_mask\n",
    "import matplotlib.pyplot as plt\n",
    "import numpy as np"
   ]
  },
  {
   "cell_type": "markdown",
   "id": "f0ae7381-edbb-487f-9997-1ff5734d5a09",
   "metadata": {
    "tags": []
   },
   "source": [
    "### Train"
   ]
  },
  {
   "cell_type": "code",
   "execution_count": 2,
   "id": "ab309563-1bfb-42e3-a3af-ee50b0615713",
   "metadata": {},
   "outputs": [],
   "source": [
    "key_dict = {\n",
    "'fence':1,\n",
    "'branch':2,\n",
    "'log':3,\n",
    "'hanger':4,\n",
    "'wire':5,\n",
    "'antenna':6\n",
    "} \n",
    "\n",
    "categories = ['fence','branch','log','hanger','wire',]"
   ]
  },
  {
   "cell_type": "code",
   "execution_count": 4,
   "id": "9da897fc-8c24-4058-90ce-b5f85993bd35",
   "metadata": {},
   "outputs": [
    {
     "data": {
      "text/plain": [
       "'name_count = 0\\nfor category in categories:\\n    file_names = os.listdir(\"./\"+category+\"/train/image/\")\\n    \\n    try:\\n        file_names.remove(\\'.ipynb_checkpoints\\')\\n    except:\\n        pass\\n    \\n    for name in file_names:\\n        src_path = \"./\"+category+\"/train/image/\"+name\\n        dst_path = \"./_semantic/image/\"+str(name_count)+\".jpg\"\\n        copyfile(src_path,dst_path)\\n        \\n        name = name.split(\".\")[0]\\n        src_path = \"./\"+category+\"/train/instance_map/\"+name+\".png\"\\n        dst_path = \"./_semantic/label/\"+str(name_count)+\".png\"\\n        label_img = cv2.imread(src_path)\\n        label_img = np.where(label_img>=1,key_dict[category],0)\\n        cv2.imwrite(dst_path,label_img)\\n        \\n        name_count+=1'"
      ]
     },
     "execution_count": 4,
     "metadata": {},
     "output_type": "execute_result"
    }
   ],
   "source": [
    "# 아 seg 지우고 다시 해야함..\n",
    "'''name_count = 0\n",
    "for category in categories:\n",
    "    file_names = os.listdir(\"./\"+category+\"/train/image/\")\n",
    "    \n",
    "    try:\n",
    "        file_names.remove('.ipynb_checkpoints')\n",
    "    except:\n",
    "        pass\n",
    "    \n",
    "    for name in file_names:\n",
    "        src_path = \"./\"+category+\"/train/image/\"+name\n",
    "        dst_path = \"./_semantic/image/\"+str(name_count)+\".jpg\"\n",
    "        copyfile(src_path,dst_path)\n",
    "        \n",
    "        name = name.split(\".\")[0]\n",
    "        src_path = \"./\"+category+\"/train/instance_map/\"+name+\".png\"\n",
    "        dst_path = \"./_semantic/label/\"+str(name_count)+\".png\"\n",
    "        label_img = cv2.imread(src_path)\n",
    "        label_img = np.where(label_img>=1,key_dict[category],0)\n",
    "        cv2.imwrite(dst_path,label_img)\n",
    "        \n",
    "        name_count+=1'''"
   ]
  },
  {
   "cell_type": "code",
   "execution_count": 3,
   "id": "2a052f7a-a1da-47ac-b066-1f96cb24040c",
   "metadata": {},
   "outputs": [],
   "source": [
    "def translate_image_8_directions(image, d):\n",
    "    height, width = image.shape[:2]\n",
    "    directions = [\n",
    "        (-d, -d),  # 1. x-d, y-d\n",
    "        (0, -d),   # 2. x, y-d\n",
    "        (d, -d),   # 3. x+d, y-d\n",
    "        (-d, 0),   # 4. x-d, y\n",
    "        (d, 0),    # 5. x+d, y\n",
    "        (-d, d),   # 6. x-d, y+d\n",
    "        (0, d),    # 7. x, y+d\n",
    "        (d, d)     # 8. x+d, y+d\n",
    "    ]\n",
    "    \n",
    "    initial = True\n",
    "    for (tx, ty) in directions:\n",
    "        M = np.float32([[1, 0, tx], [0, 1, ty]])\n",
    "        trans_img = cv2.warpAffine(image, M, (width, height))\n",
    "        trans_img = np.expand_dims(trans_img,2)\n",
    "        \n",
    "        if initial:\n",
    "            translated_images = trans_img\n",
    "            initial=False\n",
    "        else:\n",
    "            translated_images = np.concatenate([translated_images,trans_img],-1)\n",
    "    \n",
    "    return translated_images"
   ]
  },
  {
   "cell_type": "code",
   "execution_count": 4,
   "id": "98757241-50b0-4de9-81ee-cc8395998fc5",
   "metadata": {},
   "outputs": [],
   "source": [
    "name_count = 0\n",
    "for category in categories:\n",
    "    image_path = \"./\"+category+\"/train/image/\"\n",
    "    json_path = \"./\"+category+\"/train/coco_format-mask_encoding=rle-instances_2017.json\"\n",
    "    \n",
    "    with open(json_path,'r') as file:\n",
    "        json_data = json.load(file)\n",
    "\n",
    "    data_dict = dict()\n",
    "    distances = [1,2,4,8,16,32,64]\n",
    "\n",
    "    for idx,annotation_data in enumerate(json_data['annotations']):  # type(annotation_data) = dict\n",
    "        key = int(annotation_data['image_id'])\n",
    "        if key not in data_dict:\n",
    "            data_dict[key] = set()\n",
    "        data_dict[key].add(idx)\n",
    "\n",
    "    for image_id in data_dict:\n",
    "        # 데이터 매치 문제없는지 확인\n",
    "        for idx in data_dict[image_id]:\n",
    "            assert image_id == json_data['annotations'][idx]['image_id'], \"key:value idx match error\"\n",
    "        # image id랑 key랑 같은지 확인\n",
    "        assert image_id == json_data['images'][image_id-1]['id'], \"img index:key match error\"\n",
    "\n",
    "        image_name = json_data['images'][image_id-1]['file_name']\n",
    "        #image = cv2.imread(image_path+image_name)\n",
    "\n",
    "        #--------intance label create--------\n",
    "        # 객체 id 초기화\n",
    "        instance_id = 1\n",
    "        # 라벨 데이터 틀 생성\n",
    "        instance_label = np.zeros((1024,1024))\n",
    "        for i in data_dict[image_id]:\n",
    "            binary_mask = decode_mask.decode(json_data['annotations'][i]['segmentation'])  # 1 or 0\n",
    "            binary_mask=np.where(binary_mask==1,instance_id,0)\n",
    "            instance_label += binary_mask\n",
    "            instance_id+=1\n",
    "        #--------intance label complete--------\n",
    "\n",
    "        #--------affinity label create--------\n",
    "        initial = True\n",
    "        for d in distances:  # 총 7개의 거리\n",
    "            img_8 = translate_image_8_directions(instance_label,d)  # d 거리에 대해 8방향으로 이동한 이미지 생성\n",
    "            if initial:\n",
    "                affinity_label = img_8\n",
    "                initial = False\n",
    "            else:\n",
    "                affinity_label = np.concatenate([affinity_label,img_8],-1)\n",
    "\n",
    "        ins_label_56 = np.repeat(np.expand_dims(instance_label,-1), 56, axis=2)\n",
    "        affinity_label = np.where((affinity_label == ins_label_56)&(ins_label_56>0), 1, 0)  # instance label과 객체 id가 같으면 1 다르면 0으로\n",
    "        #--------affinity label complete--------\n",
    "\n",
    "        # 이미지 및 affinity 라벨 저장\n",
    "        #src_path = image_path+image_name\n",
    "        #dst_path = \"./_affinity/train/image/\"+str(name_count)+\".jpg\"\n",
    "        #copyfile(src_path,dst_path)\n",
    "\n",
    "        dst_path = \"./_affinity/train/label/\"+str(name_count)+\".npz\"\n",
    "        np.savez_compressed(dst_path,data=affinity_label)\n",
    "\n",
    "        name_count+=1"
   ]
  },
  {
   "cell_type": "code",
   "execution_count": 5,
   "id": "833e283d-4e12-4d95-a0fb-5466b2fed0a9",
   "metadata": {},
   "outputs": [],
   "source": [
    "categories = ['antenna']\n",
    "for category in categories:\n",
    "    image_path = \"./\"+category+\"/train/img/image/\"\n",
    "    json_path = \"./\"+category+\"/train/coco_format-mask_encoding=rle-instances_2017.json\"\n",
    "    \n",
    "    with open(json_path,'r') as file:\n",
    "        json_data = json.load(file)\n",
    "\n",
    "    data_dict = dict()\n",
    "    distances = [1,2,4,8,16,32,64]\n",
    "\n",
    "    for idx,annotation_data in enumerate(json_data['annotations']):  # type(annotation_data) = dict\n",
    "        key = int(annotation_data['image_id'])\n",
    "        if key not in data_dict:\n",
    "            data_dict[key] = set()\n",
    "        data_dict[key].add(idx)\n",
    "\n",
    "    for image_id in data_dict:\n",
    "\n",
    "        # 데이터 매치 문제없는지 확인\n",
    "        for idx in data_dict[image_id]:\n",
    "            assert image_id == json_data['annotations'][idx]['image_id'], \"key:value idx match error\"\n",
    "        # image id랑 key랑 같은지 확인\n",
    "        assert image_id == json_data['images'][image_id-1]['id'], \"img index:key match error\"\n",
    "\n",
    "        image_name = json_data['images'][image_id-1]['file_name']\n",
    "        #image = cv2.imread(image_path+image_name)\n",
    "\n",
    "        #--------intance label create--------\n",
    "        # 객체 id 초기화\n",
    "        instance_id = 1\n",
    "        # 라벨 데이터 틀 생성\n",
    "        instance_label = np.zeros((1024,1024))\n",
    "        for i in data_dict[key]:\n",
    "            binary_mask = decode_mask.decode(json_data['annotations'][i]['segmentation'])  # 1 or 0\n",
    "            binary_mask=np.where(binary_mask==1,instance_id,0)\n",
    "            instance_label += binary_mask\n",
    "            instance_id+=1\n",
    "        #--------intance label complete--------\n",
    "\n",
    "        #--------affinity label create--------\n",
    "        initial = True\n",
    "        for d in distances:  # 총 7개의 거리\n",
    "            img_8 = translate_image_8_directions(instance_label,d)  # d 거리에 대해 8방향으로 이동한 이미지 생성\n",
    "            if initial:\n",
    "                affinity_label = img_8\n",
    "                initial = False\n",
    "            else:\n",
    "                affinity_label = np.concatenate([affinity_label,img_8],-1)\n",
    "\n",
    "        ins_label_56 = np.repeat(np.expand_dims(instance_label,-1), 56, axis=2)\n",
    "        affinity_label = np.where((affinity_label == ins_label_56)&(ins_label_56>0), 1, 0)  # instance label과 객체 id가 같으면 1 다르면 0으로\n",
    "        #--------affinity label complete--------\n",
    "        \n",
    "        \n",
    "        # 이미지 및 affinity 라벨 저장\n",
    "        # src_path = image_path+image_name\n",
    "        # dst_path = \"./_affinity/train/image/\"+str(name_count)+\".jpg\"\n",
    "        # copyfile(src_path,dst_path)\n",
    "\n",
    "        dst_path = \"./_affinity/train/label/\"+str(name_count)+\".npz\"\n",
    "        np.savez_compressed(dst_path,data=affinity_label)\n",
    "\n",
    "        name_count+=1"
   ]
  },
  {
   "cell_type": "markdown",
   "id": "ab50c266-42b6-4e0b-8e52-7154c05e8f55",
   "metadata": {},
   "source": [
    "### Valid"
   ]
  },
  {
   "cell_type": "code",
   "execution_count": 2,
   "id": "34101ac4-f10d-4db3-99bd-3d8da482031b",
   "metadata": {},
   "outputs": [],
   "source": [
    "key_dict = {\n",
    "'fence':1,  # 92.48\n",
    "'branch':2,  # 90.08\n",
    "'log':3,  # 97.27\n",
    "'hanger':4,  # 92.92\n",
    "'wire':5,  # 96.85\n",
    "'antenna':6  # 97.20\n",
    "} \n",
    "\n",
    "categories = ['fence','branch','log','hanger','wire',]\n",
    "\n",
    "def translate_image_8_directions(image, d):\n",
    "    height, width = image.shape[:2]\n",
    "    directions = [\n",
    "        (-d, -d),  # 1. x-d, y-d\n",
    "        (0, -d),   # 2. x, y-d\n",
    "        (d, -d),   # 3. x+d, y-d\n",
    "        (-d, 0),   # 4. x-d, y\n",
    "        (d, 0),    # 5. x+d, y\n",
    "        (-d, d),   # 6. x-d, y+d\n",
    "        (0, d),    # 7. x, y+d\n",
    "        (d, d)     # 8. x+d, y+d\n",
    "    ]\n",
    "    \n",
    "    initial = True\n",
    "    for (tx, ty) in directions:\n",
    "        M = np.float32([[1, 0, tx], [0, 1, ty]])\n",
    "        trans_img = cv2.warpAffine(image, M, (width, height))\n",
    "        trans_img = np.expand_dims(trans_img,2)\n",
    "        \n",
    "        if initial:\n",
    "            translated_images = trans_img\n",
    "            initial=False\n",
    "        else:\n",
    "            translated_images = np.concatenate([translated_images,trans_img],-1)\n",
    "    \n",
    "    return translated_images"
   ]
  },
  {
   "cell_type": "code",
   "execution_count": null,
   "id": "c47c5f27-7104-42da-8bf6-0ce6074ab36d",
   "metadata": {},
   "outputs": [],
   "source": [
    "name_count = 0\n",
    "for category in categories:\n",
    "    image_path = \"./\"+category+\"/val/image/\"\n",
    "    json_path = \"./\"+category+\"/val/coco_format-mask_encoding=rle-instances_2017.json\"\n",
    "    \n",
    "    with open(json_path,'r') as file:\n",
    "        json_data = json.load(file)\n",
    "\n",
    "    data_dict = dict()\n",
    "    distances = [1,2,4,8,16,32,64]\n",
    "\n",
    "    for idx,annotation_data in enumerate(json_data['annotations']):  # type(annotation_data) = dict\n",
    "        key = int(annotation_data['image_id'])\n",
    "        if key not in data_dict:\n",
    "            data_dict[key] = set()\n",
    "        data_dict[key].add(idx)\n",
    "\n",
    "    for image_id in data_dict:\n",
    "        # 데이터 매치 문제없는지 확인\n",
    "        for idx in data_dict[image_id]:\n",
    "            assert image_id == json_data['annotations'][idx]['image_id'], \"key:value idx match error\"\n",
    "        # image id랑 key랑 같은지 확인\n",
    "        assert image_id == json_data['images'][image_id-1]['id'], \"img index:key match error\"\n",
    "\n",
    "        image_name = json_data['images'][image_id-1]['file_name']\n",
    "        #image = cv2.imread(image_path+image_name)\n",
    "\n",
    "        #--------intance label create--------\n",
    "        # 객체 id 초기화\n",
    "        instance_id = 1\n",
    "        # 라벨 데이터 틀 생성\n",
    "        instance_label = np.zeros((1024,1024))\n",
    "        for i in data_dict[image_id]:\n",
    "            binary_mask = decode_mask.decode(json_data['annotations'][i]['segmentation'])  # 1 or 0\n",
    "            binary_mask=np.where(binary_mask==1,instance_id,0)\n",
    "            instance_label += binary_mask\n",
    "            instance_id+=1\n",
    "        #--------intance label complete--------\n",
    "\n",
    "        #--------affinity label create--------\n",
    "        initial = True\n",
    "        for d in distances:  # 총 7개의 거리\n",
    "            img_8 = translate_image_8_directions(instance_label,d)  # d 거리에 대해 8방향으로 이동한 이미지 생성\n",
    "            if initial:\n",
    "                affinity_label = img_8\n",
    "                initial = False\n",
    "            else:\n",
    "                affinity_label = np.concatenate([affinity_label,img_8],-1)\n",
    "\n",
    "        ins_label_56 = np.repeat(np.expand_dims(instance_label,-1), 56, axis=2)\n",
    "        affinity_label = np.where((affinity_label == ins_label_56)&(ins_label_56>0), 1, 0)  # instance label과 객체 id가 같으면 1 다르면 0으로\n",
    "        #--------affinity label complete--------\n",
    "\n",
    "        # 이미지 및 affinity 라벨 저장\n",
    "        src_path = image_path+image_name\n",
    "        dst_path = \"./_affinity/val/image/\"+str(name_count)+\".jpg\"\n",
    "        copyfile(src_path,dst_path)\n",
    "\n",
    "        dst_path = \"./_affinity/val/label/\"+str(name_count)+\".npz\"\n",
    "        np.savez_compressed(dst_path,data=affinity_label)\n",
    "\n",
    "        name_count+=1"
   ]
  },
  {
   "cell_type": "code",
   "execution_count": null,
   "id": "7a16651b-b9bf-41a9-825e-3c9f68ca369f",
   "metadata": {},
   "outputs": [],
   "source": [
    "categories = ['antenna']\n",
    "for category in categories:\n",
    "    image_path = \"./\"+category+\"/val/image/\"\n",
    "    json_path = \"./\"+category+\"/val/coco_format-mask_encoding=rle-instances_2017.json\"\n",
    "    \n",
    "    with open(json_path,'r') as file:\n",
    "        json_data = json.load(file)\n",
    "\n",
    "    data_dict = dict()\n",
    "    distances = [1,2,4,8,16,32,64]\n",
    "\n",
    "    for idx,annotation_data in enumerate(json_data['annotations']):  # type(annotation_data) = dict\n",
    "        key = int(annotation_data['image_id'])\n",
    "        if key not in data_dict:\n",
    "            data_dict[key] = set()\n",
    "        data_dict[key].add(idx)\n",
    "\n",
    "    for image_id in data_dict:\n",
    "\n",
    "        # 데이터 매치 문제없는지 확인\n",
    "        for idx in data_dict[image_id]:\n",
    "            assert image_id == json_data['annotations'][idx]['image_id'], \"key:value idx match error\"\n",
    "        # image id랑 key랑 같은지 확인\n",
    "        assert image_id == json_data['images'][image_id-1]['id'], \"img index:key match error\"\n",
    "\n",
    "        image_name = json_data['images'][image_id-1]['file_name']\n",
    "        #image = cv2.imread(image_path+image_name)\n",
    "\n",
    "        #--------intance label create--------\n",
    "        # 객체 id 초기화\n",
    "        instance_id = 1\n",
    "        # 라벨 데이터 틀 생성\n",
    "        instance_label = np.zeros((1024,1024))\n",
    "        for i in data_dict[key]:\n",
    "            binary_mask = decode_mask.decode(json_data['annotations'][i]['segmentation'])  # 1 or 0\n",
    "            binary_mask=np.where(binary_mask==1,instance_id,0)\n",
    "            instance_label += binary_mask\n",
    "            instance_id+=1\n",
    "        #--------intance label complete--------\n",
    "\n",
    "        #--------affinity label create--------\n",
    "        initial = True\n",
    "        for d in distances:  # 총 7개의 거리\n",
    "            img_8 = translate_image_8_directions(instance_label,d)  # d 거리에 대해 8방향으로 이동한 이미지 생성\n",
    "            if initial:\n",
    "                affinity_label = img_8\n",
    "                initial = False\n",
    "            else:\n",
    "                affinity_label = np.concatenate([affinity_label,img_8],-1)\n",
    "\n",
    "        ins_label_56 = np.repeat(np.expand_dims(instance_label,-1), 56, axis=2)\n",
    "        affinity_label = np.where((affinity_label == ins_label_56)&(ins_label_56>0), 1, 0)  # instance label과 객체 id가 같으면 1 다르면 0으로\n",
    "        #--------affinity label complete--------\n",
    "        \n",
    "        \n",
    "        # 이미지 및 affinity 라벨 저장\n",
    "        src_path = image_path+image_name\n",
    "        dst_path = \"./_affinity/val/image/\"+str(name_count)+\".jpg\"\n",
    "        copyfile(src_path,dst_path)\n",
    "\n",
    "        dst_path = \"./_affinity/val/label/\"+str(name_count)+\".npz\"\n",
    "        np.savez_compressed(dst_path,data=affinity_label)\n",
    "\n",
    "        name_count+=1"
   ]
  },
  {
   "cell_type": "markdown",
   "id": "1b17499c-29bd-486a-9e8a-f2b556e02133",
   "metadata": {
    "tags": []
   },
   "source": [
    "# semantic label"
   ]
  },
  {
   "cell_type": "code",
   "execution_count": 1,
   "id": "67ae45ad-4b8d-408d-b6d9-110d20d3ed1e",
   "metadata": {},
   "outputs": [],
   "source": [
    "from shutil import copyfile"
   ]
  },
  {
   "cell_type": "code",
   "execution_count": 2,
   "id": "61a61c9a-0d0e-467f-a105-9e1a79536959",
   "metadata": {},
   "outputs": [],
   "source": [
    "import os,cv2\n",
    "import numpy as np"
   ]
  },
  {
   "cell_type": "code",
   "execution_count": 1,
   "id": "f9ddc274-a14c-467b-928f-7a05dde1d0f5",
   "metadata": {},
   "outputs": [],
   "source": [
    "key_dict = {\n",
    "'fence':1,\n",
    "'branch':2,\n",
    "'log':3,\n",
    "'hanger':4,\n",
    "'wire':5,\n",
    "'antenna':6\n",
    "} "
   ]
  },
  {
   "cell_type": "code",
   "execution_count": 4,
   "id": "846dc207-5d66-477e-a309-7960356e7447",
   "metadata": {},
   "outputs": [],
   "source": [
    "categories = ['fence','branch','log','hanger','wire',]"
   ]
  },
  {
   "cell_type": "code",
   "execution_count": 5,
   "id": "0efa7c58-09e1-4613-99ba-1f2481adbf0a",
   "metadata": {},
   "outputs": [
    {
     "data": {
      "text/plain": [
       "['fence', 'branch', 'log', 'hanger', 'wire']"
      ]
     },
     "execution_count": 5,
     "metadata": {},
     "output_type": "execute_result"
    }
   ],
   "source": [
    "categories"
   ]
  },
  {
   "cell_type": "code",
   "execution_count": 6,
   "id": "6335352b-cc0a-479f-b22d-4f49ab0db0f8",
   "metadata": {},
   "outputs": [],
   "source": [
    "# move img files\n",
    "\n",
    "name_count = 0\n",
    "for category in categories:\n",
    "    file_names = os.listdir(\"./\"+category+\"/train/image/\")\n",
    "    \n",
    "    try:\n",
    "        file_names.remove('.ipynb_checkpoints')\n",
    "    except:\n",
    "        pass\n",
    "    \n",
    "    for name in file_names:\n",
    "        src_path = \"./\"+category+\"/train/image/\"+name\n",
    "        dst_path = \"./_semantic/image/\"+str(name_count)+\".jpg\"\n",
    "        copyfile(src_path,dst_path)\n",
    "        \n",
    "        name = name.split(\".\")[0]\n",
    "        src_path = \"./\"+category+\"/train/instance_map/\"+name+\".png\"\n",
    "        dst_path = \"./_semantic/label/\"+str(name_count)+\".png\"\n",
    "        label_img = cv2.imread(src_path)\n",
    "        label_img = np.where(label_img>=1,key_dict[category],0)\n",
    "        cv2.imwrite(dst_path,label_img)\n",
    "        \n",
    "        name_count+=1"
   ]
  },
  {
   "cell_type": "code",
   "execution_count": 7,
   "id": "af03866d-f4a6-4cb6-a8a9-161e78251fdb",
   "metadata": {},
   "outputs": [],
   "source": [
    "categories = ['antenna']\n",
    "\n",
    "for category in categories:\n",
    "    file_names = os.listdir(\"./\"+category+\"/train/img/image/\")\n",
    "    \n",
    "    try:\n",
    "        file_names.remove('.ipynb_checkpoints')\n",
    "    except:\n",
    "        pass\n",
    "    \n",
    "    for name in file_names:\n",
    "        src_path = \"./\"+category+\"/train/img/image/\"+name\n",
    "        dst_path = \"./_semantic/image/\"+str(name_count)+\".jpg\"\n",
    "        copyfile(src_path,dst_path)\n",
    "        \n",
    "        name = name.split(\".\")[0]\n",
    "        src_path = \"./\"+category+\"/train/instance/instance_map/\"+name+\".png\"\n",
    "        dst_path = \"./_semantic/label/\"+str(name_count)+\".png\"\n",
    "        label_img = cv2.imread(src_path)\n",
    "        label_img = np.where(label_img>=1,key_dict[category],0)\n",
    "        cv2.imwrite(dst_path,label_img)\n",
    "        \n",
    "        name_count+=1"
   ]
  },
  {
   "cell_type": "markdown",
   "id": "0ffc0c5d-ce66-4648-84d9-3d225df8ee3f",
   "metadata": {},
   "source": [
    "## valid data"
   ]
  },
  {
   "cell_type": "code",
   "execution_count": 4,
   "id": "4f28cfa3-a2cc-4023-bb91-7c888f582e43",
   "metadata": {},
   "outputs": [],
   "source": [
    "categories = ['fence','branch','log','hanger','wire','antenna']"
   ]
  },
  {
   "cell_type": "code",
   "execution_count": 5,
   "id": "e697ec8b-036d-4234-b383-827815b2d310",
   "metadata": {},
   "outputs": [],
   "source": [
    "name_count = 0\n",
    "for category in categories:\n",
    "    file_names = os.listdir(\"./\"+category+\"/val/image/\")\n",
    "    \n",
    "    try:\n",
    "        file_names.remove('.ipynb_checkpoints')\n",
    "    except:\n",
    "        pass\n",
    "    \n",
    "    for name in file_names:\n",
    "        src_path = \"./\"+category+\"/val/image/\"+name\n",
    "        dst_path = \"./_semantic/val/image/\"+str(name_count)+\".jpg\"\n",
    "        copyfile(src_path,dst_path)\n",
    "        \n",
    "        name = name.split(\".\")[0]\n",
    "        src_path = \"./\"+category+\"/val/instance_map/\"+name+\".png\"\n",
    "        dst_path = \"./_semantic/val/label/\"+str(name_count)+\".png\"\n",
    "        label_img = cv2.imread(src_path)\n",
    "        label_img = np.where(label_img>=1,key_dict[category],0)\n",
    "        cv2.imwrite(dst_path,label_img)\n",
    "        \n",
    "        name_count+=1"
   ]
  },
  {
   "cell_type": "code",
   "execution_count": 6,
   "id": "e73ed6ab-2064-4d9d-95e4-1897b74bca9e",
   "metadata": {},
   "outputs": [
    {
     "data": {
      "text/plain": [
       "2685"
      ]
     },
     "execution_count": 6,
     "metadata": {},
     "output_type": "execute_result"
    }
   ],
   "source": [
    "len(os.listdir(\"./_semantic/val/image/\"))"
   ]
  },
  {
   "cell_type": "code",
   "execution_count": 8,
   "id": "c77a154b-7b80-4099-9094-03c69719a730",
   "metadata": {},
   "outputs": [
    {
     "data": {
      "text/plain": [
       "2685"
      ]
     },
     "execution_count": 8,
     "metadata": {},
     "output_type": "execute_result"
    }
   ],
   "source": [
    "len(os.listdir(\"./_semantic/val/label/\"))"
   ]
  }
 ],
 "metadata": {
  "kernelspec": {
   "display_name": "Python 3 (ipykernel)",
   "language": "python",
   "name": "python3"
  },
  "language_info": {
   "codemirror_mode": {
    "name": "ipython",
    "version": 3
   },
   "file_extension": ".py",
   "mimetype": "text/x-python",
   "name": "python",
   "nbconvert_exporter": "python",
   "pygments_lexer": "ipython3",
   "version": "3.8.10"
  }
 },
 "nbformat": 4,
 "nbformat_minor": 5
}
